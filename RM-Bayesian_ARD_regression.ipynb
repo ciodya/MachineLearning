{
 "cells": [
  {
   "cell_type": "code",
   "execution_count": 19,
   "metadata": {},
   "outputs": [],
   "source": [
    "import numpy as np # linear algebra\n",
    "import pandas as pd # data processing, CSV file I/O (e.g. pd.read_csv)\n",
    "from sklearn import linear_model\n",
    "\n",
    "# visualization\n",
    "import matplotlib.pyplot as plt\n",
    "import seaborn as sns    #是在matplotlib的基础上进行了更高级的API封装，从而使得作图更加容易，在大多数情况下使用seaborn就能做出很具有吸引力的图\n",
    "%matplotlib inline\n",
    "\n",
    "from sklearn.model_selection import train_test_split # utils\n",
    "from sklearn.metrics import mean_absolute_error # eval metric\n",
    "from sklearn.metrics import explained_variance_score \n",
    "from sklearn.metrics import  mean_squared_error \n",
    "from sklearn.metrics import median_absolute_error \n",
    "from sklearn.metrics import r2_score \n",
    "\n",
    "# data processing\n",
    "from sklearn.preprocessing import PolynomialFeatures, StandardScaler\n",
    "from sklearn.pipeline import Pipeline\n",
    "\n",
    "# from sklearn.linear_model import ElasticNet # machine learning\n",
    "\n",
    "# Input data files are available in the \"../input/\" directory.\n",
    "# For example, running this (by clicking run or pressing Shift+Enter) will list the files in the input directory\n",
    "\n",
    "import os\n",
    "#print(os.path.listdir(\"../input\"))"
   ]
  },
  {
   "cell_type": "markdown",
   "metadata": {},
   "source": [
    "# Read data"
   ]
  },
  {
   "cell_type": "code",
   "execution_count": 20,
   "metadata": {},
   "outputs": [
    {
     "data": {
      "text/html": [
       "<div>\n",
       "<style scoped>\n",
       "    .dataframe tbody tr th:only-of-type {\n",
       "        vertical-align: middle;\n",
       "    }\n",
       "\n",
       "    .dataframe tbody tr th {\n",
       "        vertical-align: top;\n",
       "    }\n",
       "\n",
       "    .dataframe thead th {\n",
       "        text-align: right;\n",
       "    }\n",
       "</style>\n",
       "<table border=\"1\" class=\"dataframe\">\n",
       "  <thead>\n",
       "    <tr style=\"text-align: right;\">\n",
       "      <th></th>\n",
       "      <th>MYCT</th>\n",
       "      <th>MMIN</th>\n",
       "      <th>MMAX</th>\n",
       "      <th>CACH</th>\n",
       "      <th>CHMIN</th>\n",
       "      <th>CHMAX</th>\n",
       "    </tr>\n",
       "  </thead>\n",
       "  <tbody>\n",
       "    <tr>\n",
       "      <th>0</th>\n",
       "      <td>125</td>\n",
       "      <td>256</td>\n",
       "      <td>6000</td>\n",
       "      <td>256</td>\n",
       "      <td>16</td>\n",
       "      <td>128</td>\n",
       "    </tr>\n",
       "    <tr>\n",
       "      <th>1</th>\n",
       "      <td>29</td>\n",
       "      <td>8000</td>\n",
       "      <td>32000</td>\n",
       "      <td>32</td>\n",
       "      <td>8</td>\n",
       "      <td>32</td>\n",
       "    </tr>\n",
       "    <tr>\n",
       "      <th>2</th>\n",
       "      <td>29</td>\n",
       "      <td>8000</td>\n",
       "      <td>32000</td>\n",
       "      <td>32</td>\n",
       "      <td>8</td>\n",
       "      <td>32</td>\n",
       "    </tr>\n",
       "    <tr>\n",
       "      <th>3</th>\n",
       "      <td>29</td>\n",
       "      <td>8000</td>\n",
       "      <td>32000</td>\n",
       "      <td>32</td>\n",
       "      <td>8</td>\n",
       "      <td>32</td>\n",
       "    </tr>\n",
       "    <tr>\n",
       "      <th>4</th>\n",
       "      <td>26</td>\n",
       "      <td>8000</td>\n",
       "      <td>32000</td>\n",
       "      <td>64</td>\n",
       "      <td>8</td>\n",
       "      <td>32</td>\n",
       "    </tr>\n",
       "  </tbody>\n",
       "</table>\n",
       "</div>"
      ],
      "text/plain": [
       "   MYCT  MMIN   MMAX  CACH  CHMIN  CHMAX\n",
       "0   125   256   6000   256     16    128\n",
       "1    29  8000  32000    32      8     32\n",
       "2    29  8000  32000    32      8     32\n",
       "3    29  8000  32000    32      8     32\n",
       "4    26  8000  32000    64      8     32"
      ]
     },
     "execution_count": 20,
     "metadata": {},
     "output_type": "execute_result"
    }
   ],
   "source": [
    "df = pd.read_csv('X_train.csv')\n",
    "y = pd.read_csv('y_train.csv')['PRP']\n",
    "df_test = pd.read_csv('X_test.csv')\n",
    "df.head()"
   ]
  },
  {
   "cell_type": "markdown",
   "metadata": {},
   "source": [
    "# Split data with percentages"
   ]
  },
  {
   "cell_type": "code",
   "execution_count": 21,
   "metadata": {},
   "outputs": [],
   "source": [
    "# split the data\n",
    "X, y = df.values, y.values\n",
    "X_train, X_val, y_train, y_val = train_test_split(df, y, test_size=0.1,random_state = 1)\n",
    "\n",
    "# data preprocessing using sklearn Pipeline\n",
    "pipeline = Pipeline([\n",
    "    ('poly', PolynomialFeatures(degree=2, interaction_only=True)), # multiply features together\n",
    "    ('scale', StandardScaler()), # scale data\n",
    "])\n",
    "\n",
    "# fit and apply transform\n",
    "X_train = pipeline.fit_transform(X_train)\n",
    "# # transform the validation set\n",
    "X_val = pipeline.transform(X_val)\n",
    "\n",
    "# print(X_train)\n",
    "# print( X_val)\n",
    "\n",
    "# from sklearn import preprocessing\n",
    "# scaler = StandardScaler()\n",
    "# # fit and apply transform\n",
    "# X_train = scaler.fit_transform(X_train)\n",
    "# # transform the validation set\n",
    "# X_val = scaler.transform(X_val)\n",
    "# print('train shape:', X_train.shape, 'validation shape:', X_val.shape)\n"
   ]
  },
  {
   "cell_type": "markdown",
   "metadata": {},
   "source": [
    "# Regression model- Bayesian ARD regression"
   ]
  },
  {
   "cell_type": "code",
   "execution_count": 22,
   "metadata": {},
   "outputs": [
    {
     "name": "stdout",
     "output_type": "stream",
     "text": [
      "Model MAE: 13.11400519858643\n",
      "Explained Variance Score: 0.9456972843819389\n",
      "Mean Squared Error: 289.26243493178566\n",
      "Median_Absolute_Error: 8.529083009323386\n",
      "r2_score: 0.9423240930912652\n"
     ]
    }
   ],
   "source": [
    "#Fit the weights of a regression model, using an ARD prior. \n",
    "#The weights of the regression model are assumed to be in Gaussian distributions. \n",
    "clf = linear_model.ARDRegression()\n",
    "clf.fit(X_train, y_train) \n",
    "y_pred = clf.predict(X_val)\n",
    "y_pred[y_pred < 0] = 0\n",
    "loss = mean_absolute_error(y_val, y_pred)\n",
    "evs = explained_variance_score(y_val, y_pred)\n",
    "#Best possible score is 1.0, lower values are worse.\n",
    "mse = mean_squared_error(y_val, y_pred)\n",
    "#(the best value is 0.0)\n",
    "mae = median_absolute_error(y_val, y_pred)\n",
    "#(the best value is 0.0).\n",
    "r2 = r2_score(y_val, y_pred)\n",
    "#Best possible score is 1.0 and it can be negative (because the model can be arbitrarily worse). \n",
    "print('Model MAE:', loss)\n",
    "print('Explained Variance Score:', evs)\n",
    "print('Mean Squared Error:', mse)\n",
    "print('Median_Absolute_Error:', mae)\n",
    "print('r2_score:', r2)"
   ]
  },
  {
   "cell_type": "markdown",
   "metadata": {},
   "source": [
    "#  Prediction- Bayesian ARD regression"
   ]
  },
  {
   "cell_type": "code",
   "execution_count": 23,
   "metadata": {},
   "outputs": [],
   "source": [
    "# refit and predict submission data\n",
    "X_train = pipeline.fit_transform(X)\n",
    "X_test = pipeline.transform(df_test.values)\n",
    "clf.fit(X_train, y)\n",
    "y_pred = clf.predict(X_test)\n",
    "y_pred[y_pred < 0] = 0\n",
    "\n",
    "df_sub = pd.DataFrame({'Id': np.arange(y_pred.size), 'PRP': y_pred})\n",
    "df_sub.to_csv('submission_Bayesian regression.csv', index=False)"
   ]
  },
  {
   "cell_type": "code",
   "execution_count": null,
   "metadata": {},
   "outputs": [],
   "source": []
  }
 ],
 "metadata": {
  "kernelspec": {
   "display_name": "Python 3",
   "language": "python",
   "name": "python3"
  },
  "language_info": {
   "codemirror_mode": {
    "name": "ipython",
    "version": 3
   },
   "file_extension": ".py",
   "mimetype": "text/x-python",
   "name": "python",
   "nbconvert_exporter": "python",
   "pygments_lexer": "ipython3",
   "version": "3.6.5"
  }
 },
 "nbformat": 4,
 "nbformat_minor": 2
}
